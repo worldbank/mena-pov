{
 "cells": [
  {
   "cell_type": "markdown",
   "id": "d495ea09",
   "metadata": {},
   "source": [
    "# MENA Analysis: Road Density\n",
    "## OpenStreetMap 2023"
   ]
  },
  {
   "cell_type": "markdown",
   "id": "ef94ebc6",
   "metadata": {},
   "source": [
    "### Load packages and setup"
   ]
  },
  {
   "cell_type": "code",
   "execution_count": 1,
   "id": "4270f8a5",
   "metadata": {},
   "outputs": [],
   "source": [
    "import geopandas as gpd\n",
    "import pandas as pd\n",
    "import numpy as np"
   ]
  },
  {
   "cell_type": "code",
   "execution_count": 2,
   "id": "6f512b1f",
   "metadata": {},
   "outputs": [],
   "source": [
    "# Define directories\n",
    "dir_shp = '/Users/ashitakarl/Library/CloudStorage/Dropbox/WB/MENA_WorldBank/Boundaries/'\n",
    "dir_in = '/Users/ashitakarl/Desktop/Project/WB/MENA/OSM/'\n",
    "dir_out = '/Users/ashitakarl/Library/CloudStorage/Dropbox/WB/MENA_WorldBank/Index/'\n",
    "\n",
    "# Define output FILE\n",
    "VAR = 'ROAD'\n",
    "FILE = 'ADM2_' + VAR + '.csv'"
   ]
  },
  {
   "cell_type": "code",
   "execution_count": 3,
   "id": "50ceae9a",
   "metadata": {},
   "outputs": [],
   "source": [
    "%matplotlib inline"
   ]
  },
  {
   "cell_type": "markdown",
   "id": "d6e33d07",
   "metadata": {},
   "source": [
    "### Load shapefile"
   ]
  },
  {
   "cell_type": "code",
   "execution_count": 4,
   "id": "427f8e72",
   "metadata": {},
   "outputs": [
    {
     "name": "stderr",
     "output_type": "stream",
     "text": [
      "/var/folders/xr/g_krxdrx6zq93vshtvkz5hym0000gn/T/ipykernel_13923/621451912.py:3: UserWarning: Geometry is in a geographic CRS. Results from 'area' are likely incorrect. Use 'GeoSeries.to_crs()' to re-project geometries to a projected CRS before this operation.\n",
      "\n",
      "  MENA_shp['area_sqkm'] = MENA_shp['geometry'].area\n"
     ]
    },
    {
     "data": {
      "text/plain": [
       "<Geographic 2D CRS: EPSG:4326>\n",
       "Name: WGS 84\n",
       "Axis Info [ellipsoidal]:\n",
       "- Lat[north]: Geodetic latitude (degree)\n",
       "- Lon[east]: Geodetic longitude (degree)\n",
       "Area of Use:\n",
       "- name: World.\n",
       "- bounds: (-180.0, -90.0, 180.0, 90.0)\n",
       "Datum: World Geodetic System 1984 ensemble\n",
       "- Ellipsoid: WGS 84\n",
       "- Prime Meridian: Greenwich"
      ]
     },
     "execution_count": 4,
     "metadata": {},
     "output_type": "execute_result"
    }
   ],
   "source": [
    "# Load shapefile\n",
    "MENA_shp = gpd.read_file(dir_shp + 'MENA_ADM2.shp')\n",
    "MENA_shp['area_sqkm'] = MENA_shp['geometry'].area\n",
    "\n",
    "MENA_shp.crs"
   ]
  },
  {
   "cell_type": "markdown",
   "id": "53b09281",
   "metadata": {},
   "source": [
    "### Load all the OSM road layers"
   ]
  },
  {
   "cell_type": "code",
   "execution_count": 5,
   "id": "f4a13e78",
   "metadata": {},
   "outputs": [],
   "source": [
    "# Country list\n",
    "MENA_list = ['algeria', 'djibouti', 'egypt', 'gcc-states', 'iran', 'iraq', 'israel-and-palestine',\n",
    "            'jordan', 'lebanon', 'libya', 'malta', 'morocco', 'syria', 'tunisia', 'yemen']\n",
    "MENA_list = MENA_list[1::]\n",
    "\n",
    "# Road type list\n",
    "type_list = 'footway', 'pedestrian', 'path', 'steps', 'track_grade4', 'track_grade5', 'unknown', 'cycleway', 'bridleway'"
   ]
  },
  {
   "cell_type": "code",
   "execution_count": 6,
   "id": "d80f826a",
   "metadata": {},
   "outputs": [],
   "source": [
    "osm_road_full = gpd.read_file(dir_in + 'algeria-latest-free/gis_osm_roads_free_1.shp').to_crs('EPSG:4326')\n",
    "osm_road_full = osm_road_full[~osm_road_full['fclass'].isin(type_list)] "
   ]
  },
  {
   "cell_type": "code",
   "execution_count": 7,
   "id": "dc3c5f49",
   "metadata": {},
   "outputs": [
    {
     "name": "stdout",
     "output_type": "stream",
     "text": [
      "DONE: djibouti :)\n",
      "DONE: egypt :)\n",
      "DONE: gcc-states :)\n",
      "DONE: iran :)\n",
      "DONE: iraq :)\n",
      "DONE: israel-and-palestine :)\n",
      "DONE: jordan :)\n",
      "DONE: lebanon :)\n",
      "DONE: libya :)\n",
      "DONE: malta :)\n",
      "DONE: morocco :)\n",
      "DONE: syria :)\n",
      "DONE: tunisia :)\n",
      "DONE: yemen :)\n"
     ]
    }
   ],
   "source": [
    "for COUNTRY in MENA_list:\n",
    "    osm_road_temp = gpd.read_file(dir_in + COUNTRY + '-latest-free/gis_osm_roads_free_1.shp').to_crs('EPSG:4326')\n",
    "    osm_road_temp = osm_road_temp[~osm_road_temp['fclass'].isin(type_list)] \n",
    "    osm_road_full = gpd.pd.concat([osm_road_full, osm_road_temp])\n",
    "    print('DONE: ' + COUNTRY + ' :)')"
   ]
  },
  {
   "cell_type": "markdown",
   "id": "deef684b",
   "metadata": {},
   "source": [
    "### Calculate road length and density"
   ]
  },
  {
   "cell_type": "code",
   "execution_count": 8,
   "id": "b3614e94",
   "metadata": {},
   "outputs": [],
   "source": [
    "# Intersect the roads (lines) with boundaries (polygons)\n",
    "road_intersect = gpd.sjoin(MENA_shp, osm_road_full)"
   ]
  },
  {
   "cell_type": "code",
   "execution_count": 9,
   "id": "32010189",
   "metadata": {},
   "outputs": [
    {
     "name": "stderr",
     "output_type": "stream",
     "text": [
      "/var/folders/xr/g_krxdrx6zq93vshtvkz5hym0000gn/T/ipykernel_13923/2992236208.py:2: UserWarning: Geometry is in a geographic CRS. Results from 'length' are likely incorrect. Use 'GeoSeries.to_crs()' to re-project geometries to a projected CRS before this operation.\n",
      "\n",
      "  road_intersect['length_km'] = road_intersect['geometry'].length\n"
     ]
    }
   ],
   "source": [
    "# Calculate the length of each segment of roads\n",
    "road_intersect['length_km'] = road_intersect['geometry'].length"
   ]
  },
  {
   "cell_type": "code",
   "execution_count": 10,
   "id": "65939359",
   "metadata": {},
   "outputs": [
    {
     "data": {
      "text/plain": [
       "0     1.103580\n",
       "7     7.474568\n",
       "19    3.884721\n",
       "0     1.103580\n",
       "0     1.103580\n",
       "Name: length_km, dtype: float64"
      ]
     },
     "execution_count": 10,
     "metadata": {},
     "output_type": "execute_result"
    }
   ],
   "source": [
    "road_intersect.length_km.head()"
   ]
  },
  {
   "cell_type": "code",
   "execution_count": 11,
   "id": "b60fc14c",
   "metadata": {},
   "outputs": [],
   "source": [
    "# Summarize by ADM\n",
    "road_sum = road_intersect.groupby('ID_ADM').sum('length_km')\n",
    "road_sum.reset_index(inplace=True)\n",
    "\n",
    "# Create index\n",
    "road_sum['road_den'] = road_sum.length_km / road_sum.area_sqkm\n",
    "road_sum = road_sum[['ID_ADM', 'road_den']]"
   ]
  },
  {
   "cell_type": "code",
   "execution_count": 12,
   "id": "9de8f69f",
   "metadata": {},
   "outputs": [
    {
     "data": {
      "text/html": [
       "<div>\n",
       "<style scoped>\n",
       "    .dataframe tbody tr th:only-of-type {\n",
       "        vertical-align: middle;\n",
       "    }\n",
       "\n",
       "    .dataframe tbody tr th {\n",
       "        vertical-align: top;\n",
       "    }\n",
       "\n",
       "    .dataframe thead th {\n",
       "        text-align: right;\n",
       "    }\n",
       "</style>\n",
       "<table border=\"1\" class=\"dataframe\">\n",
       "  <thead>\n",
       "    <tr style=\"text-align: right;\">\n",
       "      <th></th>\n",
       "      <th>ID_ADM</th>\n",
       "      <th>road_den</th>\n",
       "    </tr>\n",
       "  </thead>\n",
       "  <tbody>\n",
       "    <tr>\n",
       "      <th>0</th>\n",
       "      <td>5748</td>\n",
       "      <td>119.778218</td>\n",
       "    </tr>\n",
       "    <tr>\n",
       "      <th>1</th>\n",
       "      <td>5749</td>\n",
       "      <td>152.296125</td>\n",
       "    </tr>\n",
       "    <tr>\n",
       "      <th>2</th>\n",
       "      <td>5750</td>\n",
       "      <td>193.705651</td>\n",
       "    </tr>\n",
       "    <tr>\n",
       "      <th>3</th>\n",
       "      <td>5751</td>\n",
       "      <td>442.920875</td>\n",
       "    </tr>\n",
       "    <tr>\n",
       "      <th>4</th>\n",
       "      <td>5752</td>\n",
       "      <td>139.478071</td>\n",
       "    </tr>\n",
       "    <tr>\n",
       "      <th>...</th>\n",
       "      <td>...</td>\n",
       "      <td>...</td>\n",
       "    </tr>\n",
       "    <tr>\n",
       "      <th>2925</th>\n",
       "      <td>65742</td>\n",
       "      <td>20.026486</td>\n",
       "    </tr>\n",
       "    <tr>\n",
       "      <th>2926</th>\n",
       "      <td>65743</td>\n",
       "      <td>20.780945</td>\n",
       "    </tr>\n",
       "    <tr>\n",
       "      <th>2927</th>\n",
       "      <td>65744</td>\n",
       "      <td>2.634185</td>\n",
       "    </tr>\n",
       "    <tr>\n",
       "      <th>2928</th>\n",
       "      <td>65745</td>\n",
       "      <td>22.244970</td>\n",
       "    </tr>\n",
       "    <tr>\n",
       "      <th>2929</th>\n",
       "      <td>65746</td>\n",
       "      <td>37.655275</td>\n",
       "    </tr>\n",
       "  </tbody>\n",
       "</table>\n",
       "<p>2930 rows × 2 columns</p>\n",
       "</div>"
      ],
      "text/plain": [
       "      ID_ADM    road_den\n",
       "0       5748  119.778218\n",
       "1       5749  152.296125\n",
       "2       5750  193.705651\n",
       "3       5751  442.920875\n",
       "4       5752  139.478071\n",
       "...      ...         ...\n",
       "2925   65742   20.026486\n",
       "2926   65743   20.780945\n",
       "2927   65744    2.634185\n",
       "2928   65745   22.244970\n",
       "2929   65746   37.655275\n",
       "\n",
       "[2930 rows x 2 columns]"
      ]
     },
     "execution_count": 12,
     "metadata": {},
     "output_type": "execute_result"
    }
   ],
   "source": [
    "road_sum"
   ]
  },
  {
   "cell_type": "code",
   "execution_count": 14,
   "id": "dfa140db",
   "metadata": {},
   "outputs": [],
   "source": [
    "road_sum.to_csv(dir_out + FILE, index = False)"
   ]
  }
 ],
 "metadata": {
  "kernelspec": {
   "display_name": "Python 3 (ipykernel)",
   "language": "python",
   "name": "python3"
  },
  "language_info": {
   "codemirror_mode": {
    "name": "ipython",
    "version": 3
   },
   "file_extension": ".py",
   "mimetype": "text/x-python",
   "name": "python",
   "nbconvert_exporter": "python",
   "pygments_lexer": "ipython3",
   "version": "3.9.13"
  }
 },
 "nbformat": 4,
 "nbformat_minor": 5
}
