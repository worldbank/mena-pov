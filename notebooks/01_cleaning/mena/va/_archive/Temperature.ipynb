{
 "cells": [
  {
   "cell_type": "markdown",
   "id": "0aa9c511",
   "metadata": {},
   "source": [
    "# Load packages"
   ]
  },
  {
   "cell_type": "code",
   "execution_count": 8,
   "id": "3a4b5058",
   "metadata": {},
   "outputs": [],
   "source": [
    "import geopandas as gpd\n",
    "import pandas as pd\n",
    "import numpy as np\n",
    "from rasterstats import zonal_stats\n",
    "import rasterio\n",
    "import rioxarray\n",
    "import xarray"
   ]
  },
  {
   "cell_type": "code",
   "execution_count": 9,
   "id": "a5572fda",
   "metadata": {},
   "outputs": [],
   "source": [
    "# Define directories\n",
    "dir_shp = 'M:/MENA/GEO/Boundaries/'\n",
    "dir_in = 'M:/MENA/GEO/Hazards/TEMP/raw/'\n",
    "dir_out = 'M:/MENA/GEO/Hazards/TEMP/final/'\n",
    "\n",
    "# Define output FILE\n",
    "VAR = 'TEMP_'\n",
    "YEAR_LIST = [2012,2013,2014,2015,2016,2017,2018,2019,2020]\n",
    "MONTH_LIST = ['1', '2', '3', '4', '5', '6', '7', '8', '9', '10', '11', '12']\n",
    "FILE_OUT = 'ADM2_' + VAR + str(min(YEAR_LIST)) + '_' + str(max(YEAR_LIST)) + '.csv'"
   ]
  },
  {
   "cell_type": "code",
   "execution_count": 10,
   "id": "ea341052",
   "metadata": {},
   "outputs": [],
   "source": [
    "%matplotlib inline"
   ]
  },
  {
   "cell_type": "code",
   "execution_count": 11,
   "id": "dee39edb",
   "metadata": {},
   "outputs": [
    {
     "data": {
      "text/plain": [
       "<Geographic 2D CRS: EPSG:4326>\n",
       "Name: WGS 84\n",
       "Axis Info [ellipsoidal]:\n",
       "- Lat[north]: Geodetic latitude (degree)\n",
       "- Lon[east]: Geodetic longitude (degree)\n",
       "Area of Use:\n",
       "- name: World.\n",
       "- bounds: (-180.0, -90.0, 180.0, 90.0)\n",
       "Datum: World Geodetic System 1984 ensemble\n",
       "- Ellipsoid: WGS 84\n",
       "- Prime Meridian: Greenwich"
      ]
     },
     "execution_count": 11,
     "metadata": {},
     "output_type": "execute_result"
    }
   ],
   "source": [
    "# Load shapefile\n",
    "MENA_shp = gpd.read_file(dir_shp + 'MENA_ADM2.shp')\n",
    "\n",
    "MENA_shp.crs"
   ]
  },
  {
   "cell_type": "code",
   "execution_count": 12,
   "id": "b501807c",
   "metadata": {},
   "outputs": [],
   "source": [
    "df_full = pd.DataFrame(MENA_shp['ID_ADM'])\n",
    "\n",
    "for YEAR in YEAR_LIST:\n",
    "    for MONTH in MONTH_LIST:\n",
    "        with rasterio.open(dir_in + 'TEMP_' + str(YEAR)+ '_' + str(MONTH) + '.tif') as raster:\n",
    "            array = raster.read(1)\n",
    "            affine = raster.transform\n",
    "            nodata = raster.nodata\n",
    "\n",
    "        MENA_shp.to_crs(raster.crs, inplace = True)\n",
    "\n",
    "        # Extract raster by polygon\n",
    "        dict_temp = zonal_stats(MENA_shp, array, affine = affine, nodata = nodata, \n",
    "                                interpolate = 'bilinear', all_touched = True,\n",
    "                                stats = ['mean'])\n",
    "        df_temp = pd.DataFrame(dict_temp)\n",
    "        df_temp = df_temp.add_prefix(VAR)\n",
    "\n",
    "        df_temp = df_temp.add_suffix('_' + str(YEAR)+ str(MONTH))\n",
    "        df_temp.insert(0, 'ID_ADM', MENA_shp['ID_ADM'])\n",
    "    \n",
    "        df_full = df_full.merge(df_temp, how = 'left', on = 'ID_ADM')"
   ]
  },
  {
   "cell_type": "code",
   "execution_count": 7,
   "id": "04b1642f",
   "metadata": {},
   "outputs": [
    {
     "data": {
      "text/html": [
       "<div>\n",
       "<style scoped>\n",
       "    .dataframe tbody tr th:only-of-type {\n",
       "        vertical-align: middle;\n",
       "    }\n",
       "\n",
       "    .dataframe tbody tr th {\n",
       "        vertical-align: top;\n",
       "    }\n",
       "\n",
       "    .dataframe thead th {\n",
       "        text-align: right;\n",
       "    }\n",
       "</style>\n",
       "<table border=\"1\" class=\"dataframe\">\n",
       "  <thead>\n",
       "    <tr style=\"text-align: right;\">\n",
       "      <th></th>\n",
       "      <th>ID_ADM</th>\n",
       "      <th>TEMP_mean_20121</th>\n",
       "    </tr>\n",
       "  </thead>\n",
       "  <tbody>\n",
       "    <tr>\n",
       "      <th>0</th>\n",
       "      <td>37631</td>\n",
       "      <td>14785.164827</td>\n",
       "    </tr>\n",
       "    <tr>\n",
       "      <th>1</th>\n",
       "      <td>37632</td>\n",
       "      <td>14886.135379</td>\n",
       "    </tr>\n",
       "    <tr>\n",
       "      <th>2</th>\n",
       "      <td>37633</td>\n",
       "      <td>14746.738153</td>\n",
       "    </tr>\n",
       "    <tr>\n",
       "      <th>3</th>\n",
       "      <td>37634</td>\n",
       "      <td>14868.440343</td>\n",
       "    </tr>\n",
       "    <tr>\n",
       "      <th>4</th>\n",
       "      <td>37635</td>\n",
       "      <td>14936.209559</td>\n",
       "    </tr>\n",
       "    <tr>\n",
       "      <th>...</th>\n",
       "      <td>...</td>\n",
       "      <td>...</td>\n",
       "    </tr>\n",
       "    <tr>\n",
       "      <th>2932</th>\n",
       "      <td>15561</td>\n",
       "      <td>14438.385569</td>\n",
       "    </tr>\n",
       "    <tr>\n",
       "      <th>2933</th>\n",
       "      <td>15562</td>\n",
       "      <td>14624.736830</td>\n",
       "    </tr>\n",
       "    <tr>\n",
       "      <th>2934</th>\n",
       "      <td>15563</td>\n",
       "      <td>14754.903207</td>\n",
       "    </tr>\n",
       "    <tr>\n",
       "      <th>2935</th>\n",
       "      <td>15564</td>\n",
       "      <td>14593.421126</td>\n",
       "    </tr>\n",
       "    <tr>\n",
       "      <th>2936</th>\n",
       "      <td>15565</td>\n",
       "      <td>14650.381574</td>\n",
       "    </tr>\n",
       "  </tbody>\n",
       "</table>\n",
       "<p>2937 rows × 2 columns</p>\n",
       "</div>"
      ],
      "text/plain": [
       "      ID_ADM  TEMP_mean_20121\n",
       "0      37631     14785.164827\n",
       "1      37632     14886.135379\n",
       "2      37633     14746.738153\n",
       "3      37634     14868.440343\n",
       "4      37635     14936.209559\n",
       "...      ...              ...\n",
       "2932   15561     14438.385569\n",
       "2933   15562     14624.736830\n",
       "2934   15563     14754.903207\n",
       "2935   15564     14593.421126\n",
       "2936   15565     14650.381574\n",
       "\n",
       "[2937 rows x 2 columns]"
      ]
     },
     "execution_count": 7,
     "metadata": {},
     "output_type": "execute_result"
    }
   ],
   "source": [
    "df_full"
   ]
  },
  {
   "cell_type": "code",
   "execution_count": null,
   "id": "20983476",
   "metadata": {},
   "outputs": [],
   "source": [
    "# Assuming you've already defined and populated df_full\n",
    "df_full.to_csv(\"M:/MENA/GEO/Hazards/TEMP/final/TEMP_2012_2020.csv\", index=False)"
   ]
  }
 ],
 "metadata": {
  "kernelspec": {
   "display_name": "Python 3 (ipykernel)",
   "language": "python",
   "name": "python3"
  },
  "language_info": {
   "codemirror_mode": {
    "name": "ipython",
    "version": 3
   },
   "file_extension": ".py",
   "mimetype": "text/x-python",
   "name": "python",
   "nbconvert_exporter": "python",
   "pygments_lexer": "ipython3",
   "version": "3.9.7"
  }
 },
 "nbformat": 4,
 "nbformat_minor": 5
}
