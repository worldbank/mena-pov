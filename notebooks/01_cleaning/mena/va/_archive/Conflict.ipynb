{
 "cells": [
  {
   "cell_type": "markdown",
   "id": "d495ea09",
   "metadata": {},
   "source": [
    "# MENA Analysis: Conflicts (ACLED)"
   ]
  },
  {
   "cell_type": "markdown",
   "id": "ef94ebc6",
   "metadata": {},
   "source": [
    "### Load packages and setup"
   ]
  },
  {
   "cell_type": "code",
   "execution_count": 1,
   "id": "4270f8a5",
   "metadata": {},
   "outputs": [],
   "source": [
    "import pandas as pd\n",
    "import geopandas as gpd\n",
    "import pandas as pd\n",
    "import numpy as np\n",
    "import glob"
   ]
  },
  {
   "cell_type": "code",
   "execution_count": 2,
   "id": "6f512b1f",
   "metadata": {},
   "outputs": [],
   "source": [
    "# Define directories\n",
    "dir_shp = '/Users/ashitakarl/Library/CloudStorage/Dropbox/WB/MENA_WorldBank/Boundaries/'\n",
    "dir_in = '/Users/ashitakarl/Desktop/Project/WB/MENA/ACLED/'\n",
    "dir_out = '/Users/ashitakarl/Library/CloudStorage/Dropbox/WB/MENA_WorldBank/Index/'\n",
    "\n",
    "# Define output FILE\n",
    "VAR = 'ACLED_'\n",
    "YEAR_LIST = [2015, 2020]\n",
    "FILE_OUT = 'ADM2_' + VAR + str(min(YEAR_LIST)) + '_' + str(max(YEAR_LIST)) + '.csv'"
   ]
  },
  {
   "cell_type": "code",
   "execution_count": 3,
   "id": "50ceae9a",
   "metadata": {},
   "outputs": [],
   "source": [
    "%matplotlib inline"
   ]
  },
  {
   "cell_type": "markdown",
   "id": "d6e33d07",
   "metadata": {},
   "source": [
    "### Load shapefile"
   ]
  },
  {
   "cell_type": "code",
   "execution_count": 4,
   "id": "427f8e72",
   "metadata": {},
   "outputs": [
    {
     "data": {
      "text/plain": [
       "<Geographic 2D CRS: EPSG:4326>\n",
       "Name: WGS 84\n",
       "Axis Info [ellipsoidal]:\n",
       "- Lat[north]: Geodetic latitude (degree)\n",
       "- Lon[east]: Geodetic longitude (degree)\n",
       "Area of Use:\n",
       "- name: World.\n",
       "- bounds: (-180.0, -90.0, 180.0, 90.0)\n",
       "Datum: World Geodetic System 1984 ensemble\n",
       "- Ellipsoid: WGS 84\n",
       "- Prime Meridian: Greenwich"
      ]
     },
     "execution_count": 4,
     "metadata": {},
     "output_type": "execute_result"
    }
   ],
   "source": [
    "# Load shapefile\n",
    "MENA_shp = gpd.read_file(dir_shp + 'MENA_ADM2.shp')\n",
    "\n",
    "MENA_shp.crs"
   ]
  },
  {
   "cell_type": "markdown",
   "id": "deef684b",
   "metadata": {},
   "source": [
    "### Load RWI data"
   ]
  },
  {
   "cell_type": "code",
   "execution_count": 13,
   "id": "dfbbd654",
   "metadata": {},
   "outputs": [
    {
     "name": "stderr",
     "output_type": "stream",
     "text": [
      "/var/folders/xr/g_krxdrx6zq93vshtvkz5hym0000gn/T/ipykernel_2105/2248763257.py:1: DtypeWarning: Columns (20) have mixed types. Specify dtype option on import or set low_memory=False.\n",
      "  ACLED_df = pd.read_csv(dir_in + 'MiddleEast_2015-2023_Mar17.csv')[['EVENT_ID_CNTY', 'YEAR', 'EVENT_TYPE',\n"
     ]
    }
   ],
   "source": [
    "ACLED_df = pd.read_csv(dir_in + 'MiddleEast_2015-2023_Mar17.csv')[['EVENT_ID_CNTY', 'YEAR', 'EVENT_TYPE',\n",
    "                                                                  'LONGITUDE', 'LATITUDE']]\n",
    "\n",
    "ACLED_shp = gpd.GeoDataFrame(ACLED_df, \n",
    "                             geometry = gpd.points_from_xy(ACLED_df.LONGITUDE, \n",
    "                                                           ACLED_df.LATITUDE, crs = \"EPSG:4326\"))\n",
    "\n",
    "ACLED_df = ACLED_shp.sjoin(MENA_shp, how = \"left\").groupby(['ID_ADM', 'YEAR', 'EVENT_TYPE']).size().rename('n').reset_index()"
   ]
  },
  {
   "cell_type": "code",
   "execution_count": 15,
   "id": "93b05d2f",
   "metadata": {},
   "outputs": [],
   "source": [
    "ACLED_df = ACLED_df[ACLED_df[\"YEAR\"] <= 2020] "
   ]
  },
  {
   "cell_type": "code",
   "execution_count": 16,
   "id": "153c6b2f",
   "metadata": {},
   "outputs": [
    {
     "data": {
      "text/html": [
       "<div>\n",
       "<style scoped>\n",
       "    .dataframe tbody tr th:only-of-type {\n",
       "        vertical-align: middle;\n",
       "    }\n",
       "\n",
       "    .dataframe tbody tr th {\n",
       "        vertical-align: top;\n",
       "    }\n",
       "\n",
       "    .dataframe thead th {\n",
       "        text-align: right;\n",
       "    }\n",
       "</style>\n",
       "<table border=\"1\" class=\"dataframe\">\n",
       "  <thead>\n",
       "    <tr style=\"text-align: right;\">\n",
       "      <th></th>\n",
       "      <th>ID_ADM</th>\n",
       "      <th>YEAR</th>\n",
       "      <th>EVENT_TYPE</th>\n",
       "      <th>n</th>\n",
       "    </tr>\n",
       "  </thead>\n",
       "  <tbody>\n",
       "    <tr>\n",
       "      <th>0</th>\n",
       "      <td>5748.0</td>\n",
       "      <td>2016</td>\n",
       "      <td>Protests</td>\n",
       "      <td>214</td>\n",
       "    </tr>\n",
       "    <tr>\n",
       "      <th>1</th>\n",
       "      <td>5748.0</td>\n",
       "      <td>2016</td>\n",
       "      <td>Riots</td>\n",
       "      <td>100</td>\n",
       "    </tr>\n",
       "    <tr>\n",
       "      <th>2</th>\n",
       "      <td>5748.0</td>\n",
       "      <td>2017</td>\n",
       "      <td>Battles</td>\n",
       "      <td>2</td>\n",
       "    </tr>\n",
       "    <tr>\n",
       "      <th>3</th>\n",
       "      <td>5748.0</td>\n",
       "      <td>2017</td>\n",
       "      <td>Explosions/Remote violence</td>\n",
       "      <td>1</td>\n",
       "    </tr>\n",
       "    <tr>\n",
       "      <th>4</th>\n",
       "      <td>5748.0</td>\n",
       "      <td>2017</td>\n",
       "      <td>Protests</td>\n",
       "      <td>181</td>\n",
       "    </tr>\n",
       "    <tr>\n",
       "      <th>...</th>\n",
       "      <td>...</td>\n",
       "      <td>...</td>\n",
       "      <td>...</td>\n",
       "      <td>...</td>\n",
       "    </tr>\n",
       "    <tr>\n",
       "      <th>14474</th>\n",
       "      <td>65746.0</td>\n",
       "      <td>2018</td>\n",
       "      <td>Riots</td>\n",
       "      <td>1</td>\n",
       "    </tr>\n",
       "    <tr>\n",
       "      <th>14475</th>\n",
       "      <td>65746.0</td>\n",
       "      <td>2019</td>\n",
       "      <td>Protests</td>\n",
       "      <td>22</td>\n",
       "    </tr>\n",
       "    <tr>\n",
       "      <th>14476</th>\n",
       "      <td>65746.0</td>\n",
       "      <td>2019</td>\n",
       "      <td>Riots</td>\n",
       "      <td>1</td>\n",
       "    </tr>\n",
       "    <tr>\n",
       "      <th>14477</th>\n",
       "      <td>65746.0</td>\n",
       "      <td>2020</td>\n",
       "      <td>Protests</td>\n",
       "      <td>5</td>\n",
       "    </tr>\n",
       "    <tr>\n",
       "      <th>14478</th>\n",
       "      <td>65746.0</td>\n",
       "      <td>2020</td>\n",
       "      <td>Riots</td>\n",
       "      <td>1</td>\n",
       "    </tr>\n",
       "  </tbody>\n",
       "</table>\n",
       "<p>9076 rows × 4 columns</p>\n",
       "</div>"
      ],
      "text/plain": [
       "        ID_ADM  YEAR                  EVENT_TYPE    n\n",
       "0       5748.0  2016                    Protests  214\n",
       "1       5748.0  2016                       Riots  100\n",
       "2       5748.0  2017                     Battles    2\n",
       "3       5748.0  2017  Explosions/Remote violence    1\n",
       "4       5748.0  2017                    Protests  181\n",
       "...        ...   ...                         ...  ...\n",
       "14474  65746.0  2018                       Riots    1\n",
       "14475  65746.0  2019                    Protests   22\n",
       "14476  65746.0  2019                       Riots    1\n",
       "14477  65746.0  2020                    Protests    5\n",
       "14478  65746.0  2020                       Riots    1\n",
       "\n",
       "[9076 rows x 4 columns]"
      ]
     },
     "execution_count": 16,
     "metadata": {},
     "output_type": "execute_result"
    }
   ],
   "source": [
    "ACLED_df"
   ]
  },
  {
   "cell_type": "code",
   "execution_count": 17,
   "id": "dfa140db",
   "metadata": {},
   "outputs": [],
   "source": [
    "ACLED_df.to_csv(dir_out + FILE_OUT, index = False)"
   ]
  }
 ],
 "metadata": {
  "kernelspec": {
   "display_name": "Python 3 (ipykernel)",
   "language": "python",
   "name": "python3"
  },
  "language_info": {
   "codemirror_mode": {
    "name": "ipython",
    "version": 3
   },
   "file_extension": ".py",
   "mimetype": "text/x-python",
   "name": "python",
   "nbconvert_exporter": "python",
   "pygments_lexer": "ipython3",
   "version": "3.9.13"
  }
 },
 "nbformat": 4,
 "nbformat_minor": 5
}
