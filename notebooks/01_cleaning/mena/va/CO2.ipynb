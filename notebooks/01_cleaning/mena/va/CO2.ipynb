{
 "cells": [
  {
   "cell_type": "markdown",
   "id": "d495ea09",
   "metadata": {},
   "source": [
    "# MENA Analysis: CO2 Concentration\n",
    "## 2015 - 2020"
   ]
  },
  {
   "cell_type": "markdown",
   "id": "ef94ebc6",
   "metadata": {},
   "source": [
    "### Load packages and setup"
   ]
  },
  {
   "cell_type": "code",
   "execution_count": 76,
   "id": "4270f8a5",
   "metadata": {},
   "outputs": [],
   "source": [
    "import geopandas as gpd\n",
    "import pandas as pd\n",
    "import numpy as np\n",
    "from rasterstats import zonal_stats\n",
    "import rasterio\n",
    "import netCDF4 as nc\n",
    "from affine import Affine\n",
    "import xarray as xr\n",
    "from rasterio.crs import CRS\n",
    "import regionmask\n",
    "import os"
   ]
  },
  {
   "cell_type": "code",
   "execution_count": 77,
   "id": "6f512b1f",
   "metadata": {},
   "outputs": [],
   "source": [
    "# Define directories\n",
    "# Define directories\n",
    "dir_shp = 'M:/MENA/GEO/Boundaries/'\n",
    "dir_in = 'M:/MENA/GEO/Hazards/CO2/raw/monthly/'\n",
    "dir_out = 'M:/MENA/GEO/Hazards/CO2/final/'\n",
    "\n",
    "# Define output FILE\n",
    "VAR = 'CO2_'\n",
    "YEAR_LIST = [2015]\n",
    "MONTH_LIST = ['1','2']"
   ]
  },
  {
   "cell_type": "code",
   "execution_count": 78,
   "id": "50ceae9a",
   "metadata": {},
   "outputs": [],
   "source": [
    "%matplotlib inline"
   ]
  },
  {
   "cell_type": "markdown",
   "id": "d6e33d07",
   "metadata": {},
   "source": [
    "### Load shapefile"
   ]
  },
  {
   "cell_type": "code",
   "execution_count": 79,
   "id": "427f8e72",
   "metadata": {},
   "outputs": [
    {
     "data": {
      "text/plain": [
       "<Geographic 2D CRS: EPSG:4326>\n",
       "Name: WGS 84\n",
       "Axis Info [ellipsoidal]:\n",
       "- Lat[north]: Geodetic latitude (degree)\n",
       "- Lon[east]: Geodetic longitude (degree)\n",
       "Area of Use:\n",
       "- name: World.\n",
       "- bounds: (-180.0, -90.0, 180.0, 90.0)\n",
       "Datum: World Geodetic System 1984 ensemble\n",
       "- Ellipsoid: WGS 84\n",
       "- Prime Meridian: Greenwich"
      ]
     },
     "execution_count": 79,
     "metadata": {},
     "output_type": "execute_result"
    }
   ],
   "source": [
    "# Load shapefile\n",
    "MENA_shp = gpd.read_file(dir_shp + 'MENA_ADM2.shp')\n",
    "\n",
    "MENA_shp.crs"
   ]
  },
  {
   "cell_type": "code",
   "execution_count": 80,
   "id": "d8ee6480",
   "metadata": {},
   "outputs": [],
   "source": [
    "#Function to mask and extract data:\n",
    "def extract_values(file_path, shape_gdf):\n",
    "    # Load .nc4 file as an xarray Dataset\n",
    "    ds = xr.open_dataset(file_path)\n",
    "    \n",
    "    # Create a mask using regionmask\n",
    "    mask = regionmask.mask_geopandas(shape_gdf, ds)\n",
    "    \n",
    "    # Only select values inside your shape\n",
    "    masked_ds = ds.where(mask)\n",
    "\n",
    "    # Return the masked dataset\n",
    "    return masked_ds\n"
   ]
  },
  {
   "cell_type": "code",
   "execution_count": 81,
   "id": "4f89c0af",
   "metadata": {},
   "outputs": [],
   "source": [
    "#Iterate over all files, extract values and store in a list:\n",
    "files = [os.path.join(dir_in, f) for f in os.listdir(dir_in) if f.endswith('.nc4')]\n",
    "\n",
    "all_data = []\n",
    "for file_path in sorted(files):\n",
    "    extracted_data = extract_values(file_path, MENA_shp)\n",
    "    all_data.append(extracted_data)"
   ]
  },
  {
   "cell_type": "code",
   "execution_count": null,
   "id": "ea25d83a",
   "metadata": {},
   "outputs": [],
   "source": [
    "# Concatenate all datasets along a new dimension:\n",
    "combined_ds = xr.concat(all_data, dim='time')\n"
   ]
  },
  {
   "cell_type": "code",
   "execution_count": null,
   "id": "2eb03138",
   "metadata": {},
   "outputs": [],
   "source": [
    "# Save the combined dataset to a new .nc4 file\n",
    "combined_ds.to_netcdf('/path/to/combined_data.nc4')\n"
   ]
  },
  {
   "cell_type": "code",
   "execution_count": 68,
   "id": "25b6b013",
   "metadata": {
    "scrolled": true
   },
   "outputs": [
    {
     "name": "stdout",
     "output_type": "stream",
     "text": [
      "   year month                                         statistics\n",
      "0  2015     1  [{'mean': None, 'median': None, 'max': None, '...\n",
      "1  2015     2  [{'mean': None, 'median': None, 'max': None, '...\n"
     ]
    }
   ],
   "source": [
    "# Load the shapefile using geopandas\n",
    "\n",
    "all_stats = []\n",
    "\n",
    "for YEAR in YEAR_LIST:\n",
    "    for MONTH in MONTH_LIST:\n",
    "        file_path = f\"{dir_in}oco2_GEOS_L3CO2_month_{YEAR}0{MONTH}_B10206Ar.nc4\"\n",
    "        ds = xr.open_dataset(file_path)\n",
    "        \n",
    "       # Slice the array to make it 2D\n",
    "        arr = ds['XCO2'].values[0, :, :]\n",
    "        \n",
    "\n",
    "        # Get the affine transform of the data\n",
    "        transform = rasterio.transform.from_origin(ds.lon[0], ds.lat[-1], ds.lon[1] - ds.lon[0], ds.lat[1] - ds.lat[0])\n",
    "        \n",
    "        if 'crs' not in ds.attrs:\n",
    "            ds_crs = CRS.from_string(\"EPSG:4326\")\n",
    "        else:\n",
    "            ds_crs = CRS.from_string(ds.attrs['crs'])\n",
    "\n",
    "\n",
    "        # Calculate statistics\n",
    "        stats = zonal_stats(MENA_shp, arr, affine=transform, stats=[\"mean\"])\n",
    "        \n",
    "        all_stats.append({\n",
    "            'year': YEAR,\n",
    "            'month': MONTH,\n",
    "            'statistics': stats\n",
    "        })\n",
    "        \n",
    "        ds.close()\n",
    "\n",
    "df = pd.DataFrame(all_stats)\n",
    "print(df)\n"
   ]
  },
  {
   "cell_type": "markdown",
   "id": "deef684b",
   "metadata": {},
   "source": [
    "### Load CO2 rasters"
   ]
  },
  {
   "cell_type": "code",
   "execution_count": 12,
   "id": "c79c2048",
   "metadata": {},
   "outputs": [
    {
     "data": {
      "text/plain": [
       "0"
      ]
     },
     "execution_count": 12,
     "metadata": {},
     "output_type": "execute_result"
    }
   ],
   "source": [
    "df_full.CO2_median_2015.isna().sum().sum()"
   ]
  },
  {
   "cell_type": "code",
   "execution_count": 15,
   "id": "608f57a1",
   "metadata": {},
   "outputs": [
    {
     "data": {
      "text/plain": [
       "399.8965326822409"
      ]
     },
     "execution_count": 15,
     "metadata": {},
     "output_type": "execute_result"
    }
   ],
   "source": [
    "df_full.CO2_median_2015.mean()"
   ]
  },
  {
   "cell_type": "code",
   "execution_count": 7,
   "id": "3adbb162",
   "metadata": {},
   "outputs": [
    {
     "data": {
      "text/html": [
       "<div>\n",
       "<style scoped>\n",
       "    .dataframe tbody tr th:only-of-type {\n",
       "        vertical-align: middle;\n",
       "    }\n",
       "\n",
       "    .dataframe tbody tr th {\n",
       "        vertical-align: top;\n",
       "    }\n",
       "\n",
       "    .dataframe thead th {\n",
       "        text-align: right;\n",
       "    }\n",
       "</style>\n",
       "<table border=\"1\" class=\"dataframe\">\n",
       "  <thead>\n",
       "    <tr style=\"text-align: right;\">\n",
       "      <th></th>\n",
       "      <th>ID_ADM</th>\n",
       "      <th>CO2_min_2015</th>\n",
       "      <th>CO2_max_2015</th>\n",
       "      <th>CO2_mean_2015</th>\n",
       "      <th>CO2_count_2015</th>\n",
       "      <th>CO2_std_2015</th>\n",
       "      <th>CO2_median_2015</th>\n",
       "      <th>CO2_min_2020</th>\n",
       "      <th>CO2_max_2020</th>\n",
       "      <th>CO2_mean_2020</th>\n",
       "      <th>CO2_count_2020</th>\n",
       "      <th>CO2_std_2020</th>\n",
       "      <th>CO2_median_2020</th>\n",
       "    </tr>\n",
       "  </thead>\n",
       "  <tbody>\n",
       "    <tr>\n",
       "      <th>0</th>\n",
       "      <td>37631</td>\n",
       "      <td>399.607960</td>\n",
       "      <td>401.358550</td>\n",
       "      <td>400.399209</td>\n",
       "      <td>15</td>\n",
       "      <td>0.428803</td>\n",
       "      <td>400.466887</td>\n",
       "      <td>409.163792</td>\n",
       "      <td>414.569980</td>\n",
       "      <td>411.808040</td>\n",
       "      <td>15</td>\n",
       "      <td>1.468331</td>\n",
       "      <td>411.502822</td>\n",
       "    </tr>\n",
       "    <tr>\n",
       "      <th>1</th>\n",
       "      <td>37632</td>\n",
       "      <td>398.298823</td>\n",
       "      <td>400.135250</td>\n",
       "      <td>399.067373</td>\n",
       "      <td>30</td>\n",
       "      <td>0.476779</td>\n",
       "      <td>398.958232</td>\n",
       "      <td>409.627150</td>\n",
       "      <td>414.687820</td>\n",
       "      <td>412.038940</td>\n",
       "      <td>30</td>\n",
       "      <td>1.321080</td>\n",
       "      <td>412.115414</td>\n",
       "    </tr>\n",
       "    <tr>\n",
       "      <th>2</th>\n",
       "      <td>37633</td>\n",
       "      <td>396.497040</td>\n",
       "      <td>402.828550</td>\n",
       "      <td>399.624463</td>\n",
       "      <td>164</td>\n",
       "      <td>1.230059</td>\n",
       "      <td>399.816454</td>\n",
       "      <td>411.252160</td>\n",
       "      <td>416.116805</td>\n",
       "      <td>412.707501</td>\n",
       "      <td>164</td>\n",
       "      <td>1.154179</td>\n",
       "      <td>412.215215</td>\n",
       "    </tr>\n",
       "    <tr>\n",
       "      <th>3</th>\n",
       "      <td>37634</td>\n",
       "      <td>398.298823</td>\n",
       "      <td>399.331870</td>\n",
       "      <td>398.804309</td>\n",
       "      <td>44</td>\n",
       "      <td>0.247429</td>\n",
       "      <td>398.770686</td>\n",
       "      <td>409.504947</td>\n",
       "      <td>413.156740</td>\n",
       "      <td>410.843125</td>\n",
       "      <td>44</td>\n",
       "      <td>0.783237</td>\n",
       "      <td>410.767444</td>\n",
       "    </tr>\n",
       "    <tr>\n",
       "      <th>4</th>\n",
       "      <td>37635</td>\n",
       "      <td>397.834565</td>\n",
       "      <td>401.409114</td>\n",
       "      <td>399.242787</td>\n",
       "      <td>1166</td>\n",
       "      <td>0.543887</td>\n",
       "      <td>399.176802</td>\n",
       "      <td>408.650600</td>\n",
       "      <td>416.629880</td>\n",
       "      <td>411.987189</td>\n",
       "      <td>1166</td>\n",
       "      <td>0.971735</td>\n",
       "      <td>411.830835</td>\n",
       "    </tr>\n",
       "    <tr>\n",
       "      <th>...</th>\n",
       "      <td>...</td>\n",
       "      <td>...</td>\n",
       "      <td>...</td>\n",
       "      <td>...</td>\n",
       "      <td>...</td>\n",
       "      <td>...</td>\n",
       "      <td>...</td>\n",
       "      <td>...</td>\n",
       "      <td>...</td>\n",
       "      <td>...</td>\n",
       "      <td>...</td>\n",
       "      <td>...</td>\n",
       "      <td>...</td>\n",
       "    </tr>\n",
       "    <tr>\n",
       "      <th>2932</th>\n",
       "      <td>15561</td>\n",
       "      <td>397.557237</td>\n",
       "      <td>403.184900</td>\n",
       "      <td>399.627698</td>\n",
       "      <td>60</td>\n",
       "      <td>1.296823</td>\n",
       "      <td>399.577296</td>\n",
       "      <td>409.300400</td>\n",
       "      <td>415.623524</td>\n",
       "      <td>412.041846</td>\n",
       "      <td>60</td>\n",
       "      <td>1.779249</td>\n",
       "      <td>411.703950</td>\n",
       "    </tr>\n",
       "    <tr>\n",
       "      <th>2933</th>\n",
       "      <td>15562</td>\n",
       "      <td>395.179840</td>\n",
       "      <td>403.802830</td>\n",
       "      <td>399.108872</td>\n",
       "      <td>1593</td>\n",
       "      <td>1.277502</td>\n",
       "      <td>399.050333</td>\n",
       "      <td>407.153750</td>\n",
       "      <td>416.193300</td>\n",
       "      <td>411.728523</td>\n",
       "      <td>1593</td>\n",
       "      <td>1.674308</td>\n",
       "      <td>411.773575</td>\n",
       "    </tr>\n",
       "    <tr>\n",
       "      <th>2934</th>\n",
       "      <td>15563</td>\n",
       "      <td>397.440965</td>\n",
       "      <td>404.915400</td>\n",
       "      <td>400.148452</td>\n",
       "      <td>67</td>\n",
       "      <td>1.350926</td>\n",
       "      <td>400.179754</td>\n",
       "      <td>410.582541</td>\n",
       "      <td>416.046059</td>\n",
       "      <td>413.403369</td>\n",
       "      <td>67</td>\n",
       "      <td>1.316005</td>\n",
       "      <td>413.657800</td>\n",
       "    </tr>\n",
       "    <tr>\n",
       "      <th>2935</th>\n",
       "      <td>15564</td>\n",
       "      <td>396.418676</td>\n",
       "      <td>404.678170</td>\n",
       "      <td>399.726487</td>\n",
       "      <td>308</td>\n",
       "      <td>1.549688</td>\n",
       "      <td>399.625266</td>\n",
       "      <td>408.293980</td>\n",
       "      <td>416.747500</td>\n",
       "      <td>412.694218</td>\n",
       "      <td>308</td>\n",
       "      <td>1.557666</td>\n",
       "      <td>412.800804</td>\n",
       "    </tr>\n",
       "    <tr>\n",
       "      <th>2936</th>\n",
       "      <td>15565</td>\n",
       "      <td>396.576715</td>\n",
       "      <td>401.534520</td>\n",
       "      <td>399.127144</td>\n",
       "      <td>44</td>\n",
       "      <td>1.253840</td>\n",
       "      <td>399.022511</td>\n",
       "      <td>410.359457</td>\n",
       "      <td>414.943330</td>\n",
       "      <td>412.624105</td>\n",
       "      <td>44</td>\n",
       "      <td>1.294616</td>\n",
       "      <td>412.363468</td>\n",
       "    </tr>\n",
       "  </tbody>\n",
       "</table>\n",
       "<p>2937 rows × 13 columns</p>\n",
       "</div>"
      ],
      "text/plain": [
       "      ID_ADM  CO2_min_2015  CO2_max_2015  CO2_mean_2015  CO2_count_2015  \\\n",
       "0      37631    399.607960    401.358550     400.399209              15   \n",
       "1      37632    398.298823    400.135250     399.067373              30   \n",
       "2      37633    396.497040    402.828550     399.624463             164   \n",
       "3      37634    398.298823    399.331870     398.804309              44   \n",
       "4      37635    397.834565    401.409114     399.242787            1166   \n",
       "...      ...           ...           ...            ...             ...   \n",
       "2932   15561    397.557237    403.184900     399.627698              60   \n",
       "2933   15562    395.179840    403.802830     399.108872            1593   \n",
       "2934   15563    397.440965    404.915400     400.148452              67   \n",
       "2935   15564    396.418676    404.678170     399.726487             308   \n",
       "2936   15565    396.576715    401.534520     399.127144              44   \n",
       "\n",
       "      CO2_std_2015  CO2_median_2015  CO2_min_2020  CO2_max_2020  \\\n",
       "0         0.428803       400.466887    409.163792    414.569980   \n",
       "1         0.476779       398.958232    409.627150    414.687820   \n",
       "2         1.230059       399.816454    411.252160    416.116805   \n",
       "3         0.247429       398.770686    409.504947    413.156740   \n",
       "4         0.543887       399.176802    408.650600    416.629880   \n",
       "...            ...              ...           ...           ...   \n",
       "2932      1.296823       399.577296    409.300400    415.623524   \n",
       "2933      1.277502       399.050333    407.153750    416.193300   \n",
       "2934      1.350926       400.179754    410.582541    416.046059   \n",
       "2935      1.549688       399.625266    408.293980    416.747500   \n",
       "2936      1.253840       399.022511    410.359457    414.943330   \n",
       "\n",
       "      CO2_mean_2020  CO2_count_2020  CO2_std_2020  CO2_median_2020  \n",
       "0        411.808040              15      1.468331       411.502822  \n",
       "1        412.038940              30      1.321080       412.115414  \n",
       "2        412.707501             164      1.154179       412.215215  \n",
       "3        410.843125              44      0.783237       410.767444  \n",
       "4        411.987189            1166      0.971735       411.830835  \n",
       "...             ...             ...           ...              ...  \n",
       "2932     412.041846              60      1.779249       411.703950  \n",
       "2933     411.728523            1593      1.674308       411.773575  \n",
       "2934     413.403369              67      1.316005       413.657800  \n",
       "2935     412.694218             308      1.557666       412.800804  \n",
       "2936     412.624105              44      1.294616       412.363468  \n",
       "\n",
       "[2937 rows x 13 columns]"
      ]
     },
     "execution_count": 7,
     "metadata": {},
     "output_type": "execute_result"
    }
   ],
   "source": [
    "df_full"
   ]
  },
  {
   "cell_type": "code",
   "execution_count": 16,
   "id": "dfa140db",
   "metadata": {},
   "outputs": [],
   "source": [
    "df_full.to_csv(dir_out + FILE_OUT, index = False)"
   ]
  }
 ],
 "metadata": {
  "kernelspec": {
   "display_name": "Python 3 (ipykernel)",
   "language": "python",
   "name": "python3"
  },
  "language_info": {
   "codemirror_mode": {
    "name": "ipython",
    "version": 3
   },
   "file_extension": ".py",
   "mimetype": "text/x-python",
   "name": "python",
   "nbconvert_exporter": "python",
   "pygments_lexer": "ipython3",
   "version": "3.9.17"
  }
 },
 "nbformat": 4,
 "nbformat_minor": 5
}
