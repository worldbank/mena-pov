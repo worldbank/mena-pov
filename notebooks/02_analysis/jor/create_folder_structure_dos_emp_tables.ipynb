{
 "cells": [
  {
   "cell_type": "code",
   "execution_count": 2,
   "id": "7b4b2bdb-621a-4b59-a38b-4a7d34f730be",
   "metadata": {},
   "outputs": [],
   "source": [
    "import os"
   ]
  },
  {
   "cell_type": "code",
   "execution_count": 3,
   "id": "0fbc0476-71e7-44df-aa46-af0e492b7d0c",
   "metadata": {},
   "outputs": [],
   "source": [
    "# Specify the base directory where the folder structure will be created\n",
    "base_directory = \"/Users/chitrab/Downloads\"\n",
    "\n",
    "# Define the main folder names\n",
    "main_folders = ['Annual absolute numbers', 'Annual percentages', 'Quarterly']\n",
    "\n",
    "# Define the subfolder names for each main folder\n",
    "annual_absolute_numbers_subfolders = [str(year) for year in range(2017, 2022 + 1)]\n",
    "annual_percentages_subfolders = [str(year) for year in range(2000, 2022 + 1)]\n",
    "quarterly_subfolders = ['Quarter 1', 'Quarter 2', 'Quarter 3', 'Quarter 4']\n",
    "\n",
    "# Create the main folders\n",
    "for main_folder in main_folders:\n",
    "    os.makedirs(os.path.join(base_directory, main_folder))\n",
    "\n",
    "# Create the subfolders for 'Annual absolute numbers'\n",
    "for subfolder in annual_absolute_numbers_subfolders:\n",
    "    os.makedirs(os.path.join(base_directory, 'Annual absolute numbers', subfolder))\n",
    "\n",
    "# Create the subfolders for 'Annual percentages'\n",
    "for subfolder in annual_percentages_subfolders:\n",
    "    os.makedirs(os.path.join(base_directory, 'Annual percentages', subfolder))\n",
    "\n",
    "# Create the subfolders for 'Quarterly'\n",
    "for quarter_folder in quarterly_subfolders:\n",
    "    os.makedirs(os.path.join(base_directory, 'Quarterly', quarter_folder))\n",
    "    for subfolder in range(2007, 2023 + 1):\n",
    "        os.makedirs(os.path.join(base_directory, 'Quarterly', quarter_folder, str(subfolder)))\n"
   ]
  },
  {
   "cell_type": "code",
   "execution_count": null,
   "id": "feaec564-5106-416d-a86c-d26e76a60df7",
   "metadata": {},
   "outputs": [],
   "source": []
  }
 ],
 "metadata": {
  "kernelspec": {
   "display_name": "Python 3 (ipykernel)",
   "language": "python",
   "name": "python3"
  },
  "language_info": {
   "codemirror_mode": {
    "name": "ipython",
    "version": 3
   },
   "file_extension": ".py",
   "mimetype": "text/x-python",
   "name": "python",
   "nbconvert_exporter": "python",
   "pygments_lexer": "ipython3",
   "version": "3.10.9"
  }
 },
 "nbformat": 4,
 "nbformat_minor": 5
}
